{
  "cells": [
    {
      "cell_type": "markdown",
      "metadata": {
        "id": "view-in-github",
        "colab_type": "text"
      },
      "source": [
        "<a href=\"https://colab.research.google.com/github/Arax48/MetNumUN2025I/blob/main/alrodriguezar_Lab1.ipynb\" target=\"_parent\"><img src=\"https://colab.research.google.com/assets/colab-badge.svg\" alt=\"Open In Colab\"/></a>"
      ]
    },
    {
      "cell_type": "markdown",
      "id": "3d2688d3",
      "metadata": {
        "id": "3d2688d3"
      },
      "source": [
        "# LAB 1 — Quantopian Lectures + QuantConnect Tutorials (100 Unique Examples)\n",
        "\n",
        "This notebook contains **100 unique examples** (10 per section).  \n",
        "Each example has a Markdown cell (`My own example n`) followed by a runnable Python 3 code cell.\n",
        "\n",
        "---\n"
      ]
    },
    {
      "cell_type": "markdown",
      "id": "791d167a",
      "metadata": {
        "id": "791d167a"
      },
      "source": [
        "## Section 1: Quantopian Lecture 1: Introduction to Research (Ipython notebooks)"
      ]
    },
    {
      "cell_type": "markdown",
      "id": "3453a6fd",
      "metadata": {
        "id": "3453a6fd"
      },
      "source": [
        "**My own example 1**"
      ]
    },
    {
      "cell_type": "code",
      "execution_count": null,
      "id": "2deb133e",
      "metadata": {
        "colab": {
          "base_uri": "https://localhost:8080/"
        },
        "id": "2deb133e",
        "outputId": "1d59b604-eda5-4489-8260-307823ae7d73"
      },
      "outputs": [
        {
          "output_type": "stream",
          "name": "stdout",
          "text": [
            "Hello, World!\n"
          ]
        }
      ],
      "source": [
        "print('Hello, World!')"
      ]
    },
    {
      "cell_type": "markdown",
      "id": "e9121ff3",
      "metadata": {
        "id": "e9121ff3"
      },
      "source": [
        "**My own example 2**"
      ]
    },
    {
      "cell_type": "code",
      "execution_count": null,
      "id": "0f0299f1",
      "metadata": {
        "colab": {
          "base_uri": "https://localhost:8080/"
        },
        "id": "0f0299f1",
        "outputId": "c45fcce5-48fe-4e95-aadd-f8da378248a2"
      },
      "outputs": [
        {
          "output_type": "stream",
          "name": "stdout",
          "text": [
            "Sum: 8\n"
          ]
        }
      ],
      "source": [
        "a, b = 5, 3\n",
        "print('Sum:', a+b)"
      ]
    },
    {
      "cell_type": "markdown",
      "id": "2f36a8c0",
      "metadata": {
        "id": "2f36a8c0"
      },
      "source": [
        "**My own example 3**"
      ]
    },
    {
      "cell_type": "code",
      "execution_count": null,
      "id": "96efecb7",
      "metadata": {
        "colab": {
          "base_uri": "https://localhost:8080/"
        },
        "id": "96efecb7",
        "outputId": "6ed957a4-5e83-4046-8c7b-4fbf4694d91c"
      },
      "outputs": [
        {
          "output_type": "stream",
          "name": "stdout",
          "text": [
            "NUMERICAL METHODS\n"
          ]
        }
      ],
      "source": [
        "msg = 'Numerical Methods'\n",
        "print(msg.upper())"
      ]
    },
    {
      "cell_type": "markdown",
      "id": "cd225fda",
      "metadata": {
        "id": "cd225fda"
      },
      "source": [
        "**My own example 4**"
      ]
    },
    {
      "cell_type": "code",
      "execution_count": null,
      "id": "af50482a",
      "metadata": {
        "colab": {
          "base_uri": "https://localhost:8080/"
        },
        "id": "af50482a",
        "outputId": "07e7d75e-bcc4-485f-9705-fce57093135f"
      },
      "outputs": [
        {
          "output_type": "stream",
          "name": "stdout",
          "text": [
            "Reversed: [3, 2, 1]\n"
          ]
        }
      ],
      "source": [
        "nums = [1,2,3]\n",
        "print('Reversed:', nums[::-1])"
      ]
    },
    {
      "cell_type": "markdown",
      "id": "b3e6c520",
      "metadata": {
        "id": "b3e6c520"
      },
      "source": [
        "**My own example 5**"
      ]
    },
    {
      "cell_type": "code",
      "execution_count": null,
      "id": "4d1a987d",
      "metadata": {
        "colab": {
          "base_uri": "https://localhost:8080/"
        },
        "id": "4d1a987d",
        "outputId": "d1b9f332-ae46-480a-fb66-18fd672e6e79"
      },
      "outputs": [
        {
          "output_type": "stream",
          "name": "stdout",
          "text": [
            "Rounded: 3.14\n"
          ]
        }
      ],
      "source": [
        "x = 3.14159\n",
        "print('Rounded:', round(x,2))"
      ]
    },
    {
      "cell_type": "markdown",
      "id": "cf3c2c36",
      "metadata": {
        "id": "cf3c2c36"
      },
      "source": [
        "**My own example 6**"
      ]
    },
    {
      "cell_type": "code",
      "execution_count": null,
      "id": "b574045f",
      "metadata": {
        "colab": {
          "base_uri": "https://localhost:8080/"
        },
        "id": "b574045f",
        "outputId": "afd8245c-6aa4-42d0-f1fd-517032c123fd"
      },
      "outputs": [
        {
          "output_type": "stream",
          "name": "stdout",
          "text": [
            "Alice is 22 years old.\n"
          ]
        }
      ],
      "source": [
        "name = 'Alice'\n",
        "age = 22\n",
        "print(f'{name} is {age} years old.')"
      ]
    },
    {
      "cell_type": "markdown",
      "id": "c9dc8759",
      "metadata": {
        "id": "c9dc8759"
      },
      "source": [
        "**My own example 7**"
      ]
    },
    {
      "cell_type": "code",
      "execution_count": null,
      "id": "f0031e5a",
      "metadata": {
        "colab": {
          "base_uri": "https://localhost:8080/"
        },
        "id": "f0031e5a",
        "outputId": "3cf6e88d-4cae-4d28-d7d8-0025d4b613d4"
      },
      "outputs": [
        {
          "output_type": "stream",
          "name": "stdout",
          "text": [
            "Unique letters: {'s', 't', 'n', 'c', ' ', 'i', 'e', 'a', 'd'}\n"
          ]
        }
      ],
      "source": [
        "text = 'data science'\n",
        "print('Unique letters:', set(text))"
      ]
    },
    {
      "cell_type": "markdown",
      "id": "ac901902",
      "metadata": {
        "id": "ac901902"
      },
      "source": [
        "**My own example 8**"
      ]
    },
    {
      "cell_type": "code",
      "execution_count": null,
      "id": "698b7fda",
      "metadata": {
        "colab": {
          "base_uri": "https://localhost:8080/"
        },
        "id": "698b7fda",
        "outputId": "d4e720fa-f634-4326-b184-2c7bda8bd265"
      },
      "outputs": [
        {
          "output_type": "stream",
          "name": "stdout",
          "text": [
            "Squares: [1, 4, 9, 16]\n"
          ]
        }
      ],
      "source": [
        "nums = [1,2,3,4]\n",
        "print('Squares:', [n**2 for n in nums])"
      ]
    },
    {
      "cell_type": "markdown",
      "id": "c682da8d",
      "metadata": {
        "id": "c682da8d"
      },
      "source": [
        "**My own example 9**"
      ]
    },
    {
      "cell_type": "code",
      "execution_count": null,
      "id": "6a26b338",
      "metadata": {
        "colab": {
          "base_uri": "https://localhost:8080/"
        },
        "id": "6a26b338",
        "outputId": "9767e629-ec96-4cdf-c2a1-984eea0f4839"
      },
      "outputs": [
        {
          "output_type": "stream",
          "name": "stdout",
          "text": [
            "Tuple length: 3\n"
          ]
        }
      ],
      "source": [
        "tpl = (1,2,3)\n",
        "print('Tuple length:', len(tpl))"
      ]
    },
    {
      "cell_type": "markdown",
      "id": "ffdc25c3",
      "metadata": {
        "id": "ffdc25c3"
      },
      "source": [
        "**My own example 10**"
      ]
    },
    {
      "cell_type": "code",
      "execution_count": null,
      "id": "5605cc0e",
      "metadata": {
        "colab": {
          "base_uri": "https://localhost:8080/"
        },
        "id": "5605cc0e",
        "outputId": "489bbba6-a5cb-47a5-d4d1-3e1e87369466"
      },
      "outputs": [
        {
          "output_type": "stream",
          "name": "stdout",
          "text": [
            "Unique set: {1, 2, 3}\n"
          ]
        }
      ],
      "source": [
        "s = {1,2,2,3}\n",
        "print('Unique set:', s)"
      ]
    },
    {
      "cell_type": "markdown",
      "id": "ffce257b",
      "metadata": {
        "id": "ffce257b"
      },
      "source": [
        "## Section 2: Quantopian Lecture 2: Introduction to Python"
      ]
    },
    {
      "cell_type": "markdown",
      "id": "79fe1029",
      "metadata": {
        "id": "79fe1029"
      },
      "source": [
        "**My own example 11**"
      ]
    },
    {
      "cell_type": "code",
      "execution_count": null,
      "id": "881902ad",
      "metadata": {
        "colab": {
          "base_uri": "https://localhost:8080/"
        },
        "id": "881902ad",
        "outputId": "aa18b114-4886-45bb-be48-8f0bfa419248"
      },
      "outputs": [
        {
          "output_type": "stream",
          "name": "stdout",
          "text": [
            "0 a\n",
            "1 b\n",
            "2 c\n"
          ]
        }
      ],
      "source": [
        "items = ['a','b','c']\n",
        "for i,item in enumerate(items):\n",
        "    print(i,item)"
      ]
    },
    {
      "cell_type": "markdown",
      "id": "44cea933",
      "metadata": {
        "id": "44cea933"
      },
      "source": [
        "**My own example 12**"
      ]
    },
    {
      "cell_type": "code",
      "execution_count": null,
      "id": "93826a7d",
      "metadata": {
        "colab": {
          "base_uri": "https://localhost:8080/"
        },
        "id": "93826a7d",
        "outputId": "9e4a936b-b073-4c70-f136-0a4008ea9d4f"
      },
      "outputs": [
        {
          "output_type": "stream",
          "name": "stdout",
          "text": [
            "Sum: 60\n"
          ]
        }
      ],
      "source": [
        "nums = [10,20,30]\n",
        "print('Sum:', sum(nums))"
      ]
    },
    {
      "cell_type": "markdown",
      "id": "d30427a8",
      "metadata": {
        "id": "d30427a8"
      },
      "source": [
        "**My own example 13**"
      ]
    },
    {
      "cell_type": "code",
      "execution_count": null,
      "id": "a0997f4b",
      "metadata": {
        "colab": {
          "base_uri": "https://localhost:8080/"
        },
        "id": "a0997f4b",
        "outputId": "659b7bd2-d296-4b4c-850f-acc691c68707"
      },
      "outputs": [
        {
          "output_type": "stream",
          "name": "stdout",
          "text": [
            "First 3 letters: pyt\n"
          ]
        }
      ],
      "source": [
        "word = 'python'\n",
        "print('First 3 letters:', word[:3])"
      ]
    },
    {
      "cell_type": "markdown",
      "id": "e9fa111e",
      "metadata": {
        "id": "e9fa111e"
      },
      "source": [
        "**My own example 14**"
      ]
    },
    {
      "cell_type": "code",
      "execution_count": null,
      "id": "8c505f52",
      "metadata": {
        "colab": {
          "base_uri": "https://localhost:8080/"
        },
        "id": "8c505f52",
        "outputId": "73fe24d9-59da-4fcd-d391-50c6d4be641b"
      },
      "outputs": [
        {
          "output_type": "stream",
          "name": "stdout",
          "text": [
            "Keys: ['x', 'y']\n"
          ]
        }
      ],
      "source": [
        "d = {'x':1,'y':2}\n",
        "print('Keys:', list(d.keys()))"
      ]
    },
    {
      "cell_type": "markdown",
      "id": "7d57a727",
      "metadata": {
        "id": "7d57a727"
      },
      "source": [
        "**My own example 15**"
      ]
    },
    {
      "cell_type": "code",
      "execution_count": null,
      "id": "8aeebfe5",
      "metadata": {
        "colab": {
          "base_uri": "https://localhost:8080/"
        },
        "id": "8aeebfe5",
        "outputId": "32bec575-4d8d-40db-b362-12f8770fe415"
      },
      "outputs": [
        {
          "output_type": "stream",
          "name": "stdout",
          "text": [
            "Max value: 7\n"
          ]
        }
      ],
      "source": [
        "values = [5,6,7]\n",
        "print('Max value:', max(values))"
      ]
    },
    {
      "cell_type": "markdown",
      "id": "d2b74e2c",
      "metadata": {
        "id": "d2b74e2c"
      },
      "source": [
        "**My own example 16**"
      ]
    },
    {
      "cell_type": "code",
      "execution_count": null,
      "id": "7622917b",
      "metadata": {
        "colab": {
          "base_uri": "https://localhost:8080/"
        },
        "id": "7622917b",
        "outputId": "d2a8af58-ae23-4f82-8013-fa7b363d214b"
      },
      "outputs": [
        {
          "output_type": "stream",
          "name": "stdout",
          "text": [
            "Flatten: [1, 2, 3, 4]\n"
          ]
        }
      ],
      "source": [
        "pairs = [(1,2),(3,4)]\n",
        "print('Flatten:', [x for pair in pairs for x in pair])"
      ]
    },
    {
      "cell_type": "markdown",
      "id": "0338c20a",
      "metadata": {
        "id": "0338c20a"
      },
      "source": [
        "**My own example 17**"
      ]
    },
    {
      "cell_type": "code",
      "execution_count": null,
      "id": "53a3c6f6",
      "metadata": {
        "colab": {
          "base_uri": "https://localhost:8080/"
        },
        "id": "53a3c6f6",
        "outputId": "f6e0e779-8769-47e1-f3fc-db97b0345f49"
      },
      "outputs": [
        {
          "output_type": "stream",
          "name": "stdout",
          "text": [
            "Cumulative sum: [1, 3, 6]\n"
          ]
        }
      ],
      "source": [
        "nums = [1,2,3]\n",
        "print('Cumulative sum:', [sum(nums[:i+1]) for i in range(len(nums))])"
      ]
    },
    {
      "cell_type": "markdown",
      "id": "cdeb3c21",
      "metadata": {
        "id": "cdeb3c21"
      },
      "source": [
        "**My own example 18**"
      ]
    },
    {
      "cell_type": "code",
      "execution_count": null,
      "id": "84ee21e7",
      "metadata": {
        "colab": {
          "base_uri": "https://localhost:8080/"
        },
        "id": "84ee21e7",
        "outputId": "e9c65561-5d0f-4fa0-bc59-b413e7d20464"
      },
      "outputs": [
        {
          "output_type": "stream",
          "name": "stdout",
          "text": [
            "Is digit? False\n"
          ]
        }
      ],
      "source": [
        "s = 'abc123'\n",
        "print('Is digit?', s.isdigit())"
      ]
    },
    {
      "cell_type": "markdown",
      "id": "d4812ced",
      "metadata": {
        "id": "d4812ced"
      },
      "source": [
        "**My own example 19**"
      ]
    },
    {
      "cell_type": "code",
      "execution_count": null,
      "id": "e8db9ed4",
      "metadata": {
        "colab": {
          "base_uri": "https://localhost:8080/"
        },
        "id": "e8db9ed4",
        "outputId": "a5b3da84-9511-46d7-d609-8c302c7c24a9"
      },
      "outputs": [
        {
          "output_type": "stream",
          "name": "stdout",
          "text": [
            "Average: 4.0\n"
          ]
        }
      ],
      "source": [
        "nums = [2,4,6]\n",
        "print('Average:', sum(nums)/len(nums))"
      ]
    },
    {
      "cell_type": "markdown",
      "id": "13098738",
      "metadata": {
        "id": "13098738"
      },
      "source": [
        "**My own example 20**"
      ]
    },
    {
      "cell_type": "code",
      "execution_count": null,
      "id": "ef41619c",
      "metadata": {
        "colab": {
          "base_uri": "https://localhost:8080/"
        },
        "id": "ef41619c",
        "outputId": "28f7de6c-1588-4b5f-c17c-d5dd226c813e"
      },
      "outputs": [
        {
          "output_type": "stream",
          "name": "stdout",
          "text": [
            "Factorial 5: 120\n"
          ]
        }
      ],
      "source": [
        "import math\n",
        "print('Factorial 5:', math.factorial(5))"
      ]
    },
    {
      "cell_type": "markdown",
      "id": "67bac3ca",
      "metadata": {
        "id": "67bac3ca"
      },
      "source": [
        "## Section 3: Quanconnect Tutorial 1: Python: Data Types and Data Structures"
      ]
    },
    {
      "cell_type": "markdown",
      "id": "1d6721bc",
      "metadata": {
        "id": "1d6721bc"
      },
      "source": [
        "**My own example 21**"
      ]
    },
    {
      "cell_type": "code",
      "execution_count": null,
      "id": "fc9aed2c",
      "metadata": {
        "colab": {
          "base_uri": "https://localhost:8080/"
        },
        "id": "fc9aed2c",
        "outputId": "c7d830ea-c33d-4c92-cf24-388cb1e2cea9"
      },
      "outputs": [
        {
          "output_type": "stream",
          "name": "stdout",
          "text": [
            "Banana count: 3\n"
          ]
        }
      ],
      "source": [
        "d = {'apple':2,'banana':3}\n",
        "print('Banana count:', d['banana'])"
      ]
    },
    {
      "cell_type": "markdown",
      "id": "c02a09b5",
      "metadata": {
        "id": "c02a09b5"
      },
      "source": [
        "**My own example 22**"
      ]
    },
    {
      "cell_type": "code",
      "execution_count": null,
      "id": "97c5331d",
      "metadata": {
        "colab": {
          "base_uri": "https://localhost:8080/"
        },
        "id": "97c5331d",
        "outputId": "4716f3d9-cc30-4ab1-ffe9-9370cb3f248d"
      },
      "outputs": [
        {
          "output_type": "stream",
          "name": "stdout",
          "text": [
            "[2, 4]\n"
          ]
        }
      ],
      "source": [
        "nums = [1,2,3,4]\n",
        "even = [n for n in nums if n%2==0]\n",
        "print(even)"
      ]
    },
    {
      "cell_type": "markdown",
      "id": "3588724c",
      "metadata": {
        "id": "3588724c"
      },
      "source": [
        "**My own example 23**"
      ]
    },
    {
      "cell_type": "code",
      "execution_count": null,
      "id": "e8990375",
      "metadata": {
        "colab": {
          "base_uri": "https://localhost:8080/"
        },
        "id": "e8990375",
        "outputId": "6353323a-9c3c-4bad-ee87-6431fba76578"
      },
      "outputs": [
        {
          "output_type": "stream",
          "name": "stdout",
          "text": [
            "1 2\n"
          ]
        }
      ],
      "source": [
        "t = (1,2)\n",
        "a,b = t\n",
        "print(a,b)"
      ]
    },
    {
      "cell_type": "markdown",
      "id": "fd64817e",
      "metadata": {
        "id": "fd64817e"
      },
      "source": [
        "**My own example 24**"
      ]
    },
    {
      "cell_type": "code",
      "execution_count": null,
      "id": "742bbf06",
      "metadata": {
        "colab": {
          "base_uri": "https://localhost:8080/"
        },
        "id": "742bbf06",
        "outputId": "7a4c78bc-05e4-4978-f606-c33bd8cd9a35"
      },
      "outputs": [
        {
          "output_type": "stream",
          "name": "stdout",
          "text": [
            "Set length: 3\n"
          ]
        }
      ],
      "source": [
        "s = set([1,1,2,3])\n",
        "print('Set length:', len(s))"
      ]
    },
    {
      "cell_type": "markdown",
      "id": "adb5fb22",
      "metadata": {
        "id": "adb5fb22"
      },
      "source": [
        "**My own example 25**"
      ]
    },
    {
      "cell_type": "code",
      "execution_count": null,
      "id": "314be407",
      "metadata": {
        "colab": {
          "base_uri": "https://localhost:8080/"
        },
        "id": "314be407",
        "outputId": "626f75b7-94c1-42d1-cc50-da0413630379"
      },
      "outputs": [
        {
          "output_type": "stream",
          "name": "stdout",
          "text": [
            "Has A? True\n"
          ]
        }
      ],
      "source": [
        "grades = {'A':90,'B':80}\n",
        "print('Has A?', 'A' in grades)"
      ]
    },
    {
      "cell_type": "markdown",
      "id": "dc444c32",
      "metadata": {
        "id": "dc444c32"
      },
      "source": [
        "**My own example 26**"
      ]
    },
    {
      "cell_type": "code",
      "execution_count": null,
      "id": "2dbc8394",
      "metadata": {
        "colab": {
          "base_uri": "https://localhost:8080/"
        },
        "id": "2dbc8394",
        "outputId": "5c2f4e3a-3fbb-465b-9222-83cd8b75f614"
      },
      "outputs": [
        {
          "output_type": "stream",
          "name": "stdout",
          "text": [
            "{'a': 1, 'b': 2}\n"
          ]
        }
      ],
      "source": [
        "d = dict(zip(['a','b'],[1,2]))\n",
        "print(d)"
      ]
    },
    {
      "cell_type": "markdown",
      "id": "4ada87f8",
      "metadata": {
        "id": "4ada87f8"
      },
      "source": [
        "**My own example 27**"
      ]
    },
    {
      "cell_type": "code",
      "execution_count": null,
      "id": "24464456",
      "metadata": {
        "colab": {
          "base_uri": "https://localhost:8080/"
        },
        "id": "24464456",
        "outputId": "11e05e4e-e0fb-4918-e134-238903ab07fc"
      },
      "outputs": [
        {
          "output_type": "stream",
          "name": "stdout",
          "text": [
            "Product: 6\n"
          ]
        }
      ],
      "source": [
        "nums = [1,2,3]\n",
        "print('Product:', nums[0]*nums[1]*nums[2])"
      ]
    },
    {
      "cell_type": "markdown",
      "id": "be016de0",
      "metadata": {
        "id": "be016de0"
      },
      "source": [
        "**My own example 28**"
      ]
    },
    {
      "cell_type": "code",
      "execution_count": null,
      "id": "bb7e20a8",
      "metadata": {
        "colab": {
          "base_uri": "https://localhost:8080/"
        },
        "id": "bb7e20a8",
        "outputId": "602d8ae1-36bc-493d-9928-824a00401c4d"
      },
      "outputs": [
        {
          "output_type": "stream",
          "name": "stdout",
          "text": [
            "green\n"
          ]
        }
      ],
      "source": [
        "colors = {'r':'red','g':'green'}\n",
        "print(colors.get('g'))"
      ]
    },
    {
      "cell_type": "markdown",
      "id": "df4f82a2",
      "metadata": {
        "id": "df4f82a2"
      },
      "source": [
        "**My own example 29**"
      ]
    },
    {
      "cell_type": "code",
      "execution_count": null,
      "id": "6b93efb8",
      "metadata": {
        "colab": {
          "base_uri": "https://localhost:8080/"
        },
        "id": "6b93efb8",
        "outputId": "2f0a962f-7ab7-4967-94c1-d33fd5b6da92"
      },
      "outputs": [
        {
          "output_type": "stream",
          "name": "stdout",
          "text": [
            "Is None? True\n"
          ]
        }
      ],
      "source": [
        "x = None\n",
        "print('Is None?', x is None)"
      ]
    },
    {
      "cell_type": "markdown",
      "id": "6f18ac3c",
      "metadata": {
        "id": "6f18ac3c"
      },
      "source": [
        "**My own example 30**"
      ]
    },
    {
      "cell_type": "code",
      "execution_count": null,
      "id": "a8385d92",
      "metadata": {
        "colab": {
          "base_uri": "https://localhost:8080/"
        },
        "id": "a8385d92",
        "outputId": "b8b4561e-1811-41f1-d884-13f3e85d56d3"
      },
      "outputs": [
        {
          "output_type": "stream",
          "name": "stdout",
          "text": [
            "Sorted: [1, 3, 5]\n"
          ]
        }
      ],
      "source": [
        "nums = [1,5,3]\n",
        "print('Sorted:', sorted(nums))"
      ]
    },
    {
      "cell_type": "markdown",
      "id": "6e1da3d3",
      "metadata": {
        "id": "6e1da3d3"
      },
      "source": [
        "## Section 4: Quanconnect Tutorial 2: Logical Operations and Loops"
      ]
    },
    {
      "cell_type": "markdown",
      "id": "79b33802",
      "metadata": {
        "id": "79b33802"
      },
      "source": [
        "**My own example 31**"
      ]
    },
    {
      "cell_type": "code",
      "execution_count": null,
      "id": "d732f01e",
      "metadata": {
        "colab": {
          "base_uri": "https://localhost:8080/"
        },
        "id": "d732f01e",
        "outputId": "f94bc01f-aa6b-4b33-b648-bfbd3ae5dd85"
      },
      "outputs": [
        {
          "output_type": "stream",
          "name": "stdout",
          "text": [
            "0\n",
            "1\n",
            "2\n",
            "3\n",
            "4\n"
          ]
        }
      ],
      "source": [
        "for i in range(5):\n",
        "    print(i)"
      ]
    },
    {
      "cell_type": "markdown",
      "id": "09bc62d1",
      "metadata": {
        "id": "09bc62d1"
      },
      "source": [
        "**My own example 32**"
      ]
    },
    {
      "cell_type": "code",
      "execution_count": null,
      "id": "1661b98a",
      "metadata": {
        "colab": {
          "base_uri": "https://localhost:8080/"
        },
        "id": "1661b98a",
        "outputId": "711c057b-1374-4e08-a793-03d4f2686a64"
      },
      "outputs": [
        {
          "output_type": "stream",
          "name": "stdout",
          "text": [
            "Big\n"
          ]
        }
      ],
      "source": [
        "n=7\n",
        "if n>5:\n",
        "    print('Big')"
      ]
    },
    {
      "cell_type": "markdown",
      "id": "afdaea9b",
      "metadata": {
        "id": "afdaea9b"
      },
      "source": [
        "**My own example 33**"
      ]
    },
    {
      "cell_type": "code",
      "execution_count": null,
      "id": "daf27d15",
      "metadata": {
        "colab": {
          "base_uri": "https://localhost:8080/"
        },
        "id": "daf27d15",
        "outputId": "be6c5359-f4b5-418f-9b0f-9d966c860613"
      },
      "outputs": [
        {
          "output_type": "stream",
          "name": "stdout",
          "text": [
            "7\n",
            "4\n",
            "1\n",
            "-2\n"
          ]
        }
      ],
      "source": [
        "x=10\n",
        "while x>0:\n",
        "    x-=3\n",
        "    print(x)"
      ]
    },
    {
      "cell_type": "markdown",
      "id": "ea537872",
      "metadata": {
        "id": "ea537872"
      },
      "source": [
        "**My own example 34**"
      ]
    },
    {
      "cell_type": "code",
      "execution_count": null,
      "id": "c713e503",
      "metadata": {
        "colab": {
          "base_uri": "https://localhost:8080/"
        },
        "id": "c713e503",
        "outputId": "6e0f13e1-e301-46ff-9034-7eef95930ad0"
      },
      "outputs": [
        {
          "output_type": "stream",
          "name": "stdout",
          "text": [
            "True\n"
          ]
        }
      ],
      "source": [
        "nums=[1,2,3]\n",
        "print(all(n>0 for n in nums))"
      ]
    },
    {
      "cell_type": "markdown",
      "id": "b4d85dbb",
      "metadata": {
        "id": "b4d85dbb"
      },
      "source": [
        "**My own example 35**"
      ]
    },
    {
      "cell_type": "code",
      "execution_count": null,
      "id": "c024bb7d",
      "metadata": {
        "colab": {
          "base_uri": "https://localhost:8080/"
        },
        "id": "c024bb7d",
        "outputId": "1f2c66a3-671d-4c5d-db93-b9a10dcf5014"
      },
      "outputs": [
        {
          "output_type": "stream",
          "name": "stdout",
          "text": [
            "True\n"
          ]
        }
      ],
      "source": [
        "nums=[0,1,2]\n",
        "print(any(n>1 for n in nums))"
      ]
    },
    {
      "cell_type": "markdown",
      "id": "d1d07c90",
      "metadata": {
        "id": "d1d07c90"
      },
      "source": [
        "**My own example 36**"
      ]
    },
    {
      "cell_type": "code",
      "execution_count": null,
      "id": "98f991a7",
      "metadata": {
        "colab": {
          "base_uri": "https://localhost:8080/"
        },
        "id": "98f991a7",
        "outputId": "9d6dec77-7bcb-40f9-a6eb-c3bdc3780639"
      },
      "outputs": [
        {
          "output_type": "stream",
          "name": "stdout",
          "text": [
            "Division by zero!\n"
          ]
        }
      ],
      "source": [
        "try:\n",
        "    1/0\n",
        "except ZeroDivisionError:\n",
        "    print('Division by zero!')"
      ]
    },
    {
      "cell_type": "markdown",
      "id": "2b39db30",
      "metadata": {
        "id": "2b39db30"
      },
      "source": [
        "**My own example 37**"
      ]
    },
    {
      "cell_type": "code",
      "execution_count": null,
      "id": "751ed42f",
      "metadata": {
        "colab": {
          "base_uri": "https://localhost:8080/"
        },
        "id": "751ed42f",
        "outputId": "84d41ea4-c06e-4575-db02-f64af7b81ff1"
      },
      "outputs": [
        {
          "output_type": "stream",
          "name": "stdout",
          "text": [
            "Odd\n"
          ]
        }
      ],
      "source": [
        "val=5\n",
        "print('Even' if val%2==0 else 'Odd')"
      ]
    },
    {
      "cell_type": "markdown",
      "id": "1d5eed00",
      "metadata": {
        "id": "1d5eed00"
      },
      "source": [
        "**My own example 38**"
      ]
    },
    {
      "cell_type": "code",
      "execution_count": null,
      "id": "161b49c0",
      "metadata": {
        "colab": {
          "base_uri": "https://localhost:8080/"
        },
        "id": "161b49c0",
        "outputId": "c50b23ea-86c2-4ebe-d8e9-ad3e1ec309c5"
      },
      "outputs": [
        {
          "output_type": "stream",
          "name": "stdout",
          "text": [
            "2\n",
            "4\n",
            "6\n",
            "8\n"
          ]
        }
      ],
      "source": [
        "for i in range(2,10,2):\n",
        "    print(i)"
      ]
    },
    {
      "cell_type": "markdown",
      "id": "745e5cfb",
      "metadata": {
        "id": "745e5cfb"
      },
      "source": [
        "**My own example 39**"
      ]
    },
    {
      "cell_type": "code",
      "execution_count": null,
      "id": "8b24cac8",
      "metadata": {
        "colab": {
          "base_uri": "https://localhost:8080/"
        },
        "id": "8b24cac8",
        "outputId": "dc0a8190-1ab4-41e3-c15c-b3fc2d360417"
      },
      "outputs": [
        {
          "output_type": "stream",
          "name": "stdout",
          "text": [
            "[2, 6]\n"
          ]
        }
      ],
      "source": [
        "nums=[1,2,3]\n",
        "print([n*2 for n in nums if n%2==1])"
      ]
    },
    {
      "cell_type": "markdown",
      "id": "ff12e477",
      "metadata": {
        "id": "ff12e477"
      },
      "source": [
        "**My own example 40**"
      ]
    },
    {
      "cell_type": "code",
      "execution_count": null,
      "id": "cf8f52b5",
      "metadata": {
        "colab": {
          "base_uri": "https://localhost:8080/"
        },
        "id": "cf8f52b5",
        "outputId": "83cb4c7d-34f9-48ef-afd3-8c39318f6ecf"
      },
      "outputs": [
        {
          "output_type": "stream",
          "name": "stdout",
          "text": [
            "0 a\n",
            "1 b\n",
            "2 c\n"
          ]
        }
      ],
      "source": [
        "for i,ch in enumerate('abc'):\n",
        "    print(i,ch)"
      ]
    },
    {
      "cell_type": "markdown",
      "id": "5a8d31e6",
      "metadata": {
        "id": "5a8d31e6"
      },
      "source": [
        "## Section 5: Quanconnect Tutorial 3: Functions and Object-Oriented Programming"
      ]
    },
    {
      "cell_type": "markdown",
      "id": "f44f51e9",
      "metadata": {
        "id": "f44f51e9"
      },
      "source": [
        "**My own example 41**"
      ]
    },
    {
      "cell_type": "code",
      "execution_count": null,
      "id": "e74785e3",
      "metadata": {
        "colab": {
          "base_uri": "https://localhost:8080/"
        },
        "id": "e74785e3",
        "outputId": "a559919e-6b0d-41c0-cc6c-2a2efe950a7e"
      },
      "outputs": [
        {
          "output_type": "stream",
          "name": "stdout",
          "text": [
            "Hello Ana\n"
          ]
        }
      ],
      "source": [
        "def greet(name):\n",
        "    return f'Hello {name}'\n",
        "print(greet('Ana'))"
      ]
    },
    {
      "cell_type": "markdown",
      "id": "5b5b8ded",
      "metadata": {
        "id": "5b5b8ded"
      },
      "source": [
        "**My own example 42**"
      ]
    },
    {
      "cell_type": "code",
      "execution_count": null,
      "id": "b2ea0903",
      "metadata": {
        "colab": {
          "base_uri": "https://localhost:8080/"
        },
        "id": "b2ea0903",
        "outputId": "879d66ce-6073-40e6-c74e-8861feeb1298"
      },
      "outputs": [
        {
          "output_type": "stream",
          "name": "stdout",
          "text": [
            "[0, 1, 1, 2, 3, 5]\n"
          ]
        }
      ],
      "source": [
        "def fib(n):\n",
        "    if n<=1: return n\n",
        "    return fib(n-1)+fib(n-2)\n",
        "print([fib(i) for i in range(6)])"
      ]
    },
    {
      "cell_type": "markdown",
      "id": "99a5a5fc",
      "metadata": {
        "id": "99a5a5fc"
      },
      "source": [
        "**My own example 43**"
      ]
    },
    {
      "cell_type": "code",
      "execution_count": null,
      "id": "09301889",
      "metadata": {
        "colab": {
          "base_uri": "https://localhost:8080/"
        },
        "id": "09301889",
        "outputId": "7f1ad4e8-d059-4ec1-9525-4c8affaa4123"
      },
      "outputs": [
        {
          "output_type": "stream",
          "name": "stdout",
          "text": [
            "28.274333882308138\n"
          ]
        }
      ],
      "source": [
        "def area_circle(r):\n",
        "    import math\n",
        "    return math.pi*r**2\n",
        "print(area_circle(3))"
      ]
    },
    {
      "cell_type": "markdown",
      "id": "14401804",
      "metadata": {
        "id": "14401804"
      },
      "source": [
        "**My own example 44**"
      ]
    },
    {
      "cell_type": "code",
      "execution_count": null,
      "id": "20b300df",
      "metadata": {
        "colab": {
          "base_uri": "https://localhost:8080/"
        },
        "id": "20b300df",
        "outputId": "10947cb6-4b2a-433a-a07a-c2143f0531bc"
      },
      "outputs": [
        {
          "output_type": "stream",
          "name": "stdout",
          "text": [
            "9\n"
          ]
        }
      ],
      "source": [
        "def power(x,y=2):\n",
        "    return x**y\n",
        "print(power(3))"
      ]
    },
    {
      "cell_type": "markdown",
      "id": "0b45e9ae",
      "metadata": {
        "id": "0b45e9ae"
      },
      "source": [
        "**My own example 45**"
      ]
    },
    {
      "cell_type": "code",
      "execution_count": null,
      "id": "71722535",
      "metadata": {
        "colab": {
          "base_uri": "https://localhost:8080/"
        },
        "id": "71722535",
        "outputId": "25775a60-fab5-4779-9838-a70d299ebdd2"
      },
      "outputs": [
        {
          "output_type": "stream",
          "name": "stdout",
          "text": [
            "Max says woof\n"
          ]
        }
      ],
      "source": [
        "class Dog:\n",
        "    def __init__(self,name): self.name=name\n",
        "    def bark(self): print(self.name,'says woof')\n",
        "d=Dog('Max')\n",
        "d.bark()"
      ]
    },
    {
      "cell_type": "markdown",
      "id": "e653381d",
      "metadata": {
        "id": "e653381d"
      },
      "source": [
        "**My own example 46**"
      ]
    },
    {
      "cell_type": "code",
      "execution_count": null,
      "id": "bd749317",
      "metadata": {
        "colab": {
          "base_uri": "https://localhost:8080/"
        },
        "id": "bd749317",
        "outputId": "b0861cda-e896-48f4-c16e-74ba74620915"
      },
      "outputs": [
        {
          "output_type": "stream",
          "name": "stdout",
          "text": [
            "1\n"
          ]
        }
      ],
      "source": [
        "class Counter:\n",
        "    def __init__(self): self.c=0\n",
        "    def inc(self): self.c+=1\n",
        "c=Counter(); c.inc(); print(c.c)"
      ]
    },
    {
      "cell_type": "markdown",
      "id": "66bfe752",
      "metadata": {
        "id": "66bfe752"
      },
      "source": [
        "**My own example 47**"
      ]
    },
    {
      "cell_type": "code",
      "execution_count": null,
      "id": "8f35891e",
      "metadata": {
        "colab": {
          "base_uri": "https://localhost:8080/"
        },
        "id": "8f35891e",
        "outputId": "1e57ca39-b64c-4cee-f23c-c7202b6ac640"
      },
      "outputs": [
        {
          "output_type": "stream",
          "name": "stdout",
          "text": [
            "Person Bob\n"
          ]
        }
      ],
      "source": [
        "class Person:\n",
        "    def __init__(self,n): self.n=n\n",
        "    def __str__(self): return f'Person {self.n}'\n",
        "print(Person('Bob'))"
      ]
    },
    {
      "cell_type": "markdown",
      "id": "3940d8b2",
      "metadata": {
        "id": "3940d8b2"
      },
      "source": [
        "**My own example 48**"
      ]
    },
    {
      "cell_type": "code",
      "execution_count": null,
      "id": "c89526a6",
      "metadata": {
        "colab": {
          "base_uri": "https://localhost:8080/"
        },
        "id": "c89526a6",
        "outputId": "96712cbc-80de-40c0-c17b-a61b7ba08bb5"
      },
      "outputs": [
        {
          "output_type": "stream",
          "name": "stdout",
          "text": [
            "meow\n"
          ]
        }
      ],
      "source": [
        "class Animal: pass\n",
        "class Cat(Animal):\n",
        "    def speak(self): print('meow')\n",
        "Cat().speak()"
      ]
    },
    {
      "cell_type": "markdown",
      "id": "5a2f31c0",
      "metadata": {
        "id": "5a2f31c0"
      },
      "source": [
        "**My own example 49**"
      ]
    },
    {
      "cell_type": "code",
      "execution_count": null,
      "id": "2f061103",
      "metadata": {
        "colab": {
          "base_uri": "https://localhost:8080/"
        },
        "id": "2f061103",
        "outputId": "e8f37c40-5420-43ab-955b-2a861027e1fc"
      },
      "outputs": [
        {
          "output_type": "stream",
          "name": "stdout",
          "text": [
            "6\n"
          ]
        }
      ],
      "source": [
        "def f(*args):\n",
        "    return sum(args)\n",
        "print(f(1,2,3))"
      ]
    },
    {
      "cell_type": "markdown",
      "id": "fe010656",
      "metadata": {
        "id": "fe010656"
      },
      "source": [
        "**My own example 50**"
      ]
    },
    {
      "cell_type": "code",
      "execution_count": null,
      "id": "0a9d7b19",
      "metadata": {
        "colab": {
          "base_uri": "https://localhost:8080/"
        },
        "id": "0a9d7b19",
        "outputId": "a5c29918-b70c-4bbe-e289-d34c725b61a3"
      },
      "outputs": [
        {
          "output_type": "stream",
          "name": "stdout",
          "text": [
            "5\n"
          ]
        }
      ],
      "source": [
        "def g(**kwargs):\n",
        "    return kwargs.get('x',0)\n",
        "print(g(x=5,y=6))"
      ]
    },
    {
      "cell_type": "markdown",
      "id": "6d0d6203",
      "metadata": {
        "id": "6d0d6203"
      },
      "source": [
        "## Section 6: Quantopian Lecture 3: Introduction to NumPy"
      ]
    },
    {
      "cell_type": "markdown",
      "id": "18f3354f",
      "metadata": {
        "id": "18f3354f"
      },
      "source": [
        "**My own example 51**"
      ]
    },
    {
      "cell_type": "code",
      "execution_count": null,
      "id": "c7dd0881",
      "metadata": {
        "colab": {
          "base_uri": "https://localhost:8080/"
        },
        "id": "c7dd0881",
        "outputId": "5c488060-2e00-47c7-aee6-5e804284dc2e"
      },
      "outputs": [
        {
          "output_type": "stream",
          "name": "stdout",
          "text": [
            "[2 3 4]\n"
          ]
        }
      ],
      "source": [
        "import numpy as np\n",
        "arr=np.array([1,2,3])\n",
        "print(arr+1)"
      ]
    },
    {
      "cell_type": "markdown",
      "id": "2d5f0209",
      "metadata": {
        "id": "2d5f0209"
      },
      "source": [
        "**My own example 52**"
      ]
    },
    {
      "cell_type": "code",
      "execution_count": null,
      "id": "baefeab6",
      "metadata": {
        "colab": {
          "base_uri": "https://localhost:8080/"
        },
        "id": "baefeab6",
        "outputId": "6c9a05b5-e8ee-4d93-8c6e-d3bcae032715"
      },
      "outputs": [
        {
          "output_type": "stream",
          "name": "stdout",
          "text": [
            "[[0. 0.]\n",
            " [0. 0.]]\n"
          ]
        }
      ],
      "source": [
        "import numpy as np\n",
        "print(np.zeros((2,2)))"
      ]
    },
    {
      "cell_type": "markdown",
      "id": "4bba46a3",
      "metadata": {
        "id": "4bba46a3"
      },
      "source": [
        "**My own example 53**"
      ]
    },
    {
      "cell_type": "code",
      "execution_count": null,
      "id": "d6b2c39a",
      "metadata": {
        "colab": {
          "base_uri": "https://localhost:8080/"
        },
        "id": "d6b2c39a",
        "outputId": "0566c0e1-dacc-4792-e4b9-417f98cf2737"
      },
      "outputs": [
        {
          "output_type": "stream",
          "name": "stdout",
          "text": [
            "[[1. 0. 0.]\n",
            " [0. 1. 0.]\n",
            " [0. 0. 1.]]\n"
          ]
        }
      ],
      "source": [
        "import numpy as np\n",
        "print(np.eye(3))"
      ]
    },
    {
      "cell_type": "markdown",
      "id": "f37d8ed5",
      "metadata": {
        "id": "f37d8ed5"
      },
      "source": [
        "**My own example 54**"
      ]
    },
    {
      "cell_type": "code",
      "execution_count": null,
      "id": "2b9138fb",
      "metadata": {
        "colab": {
          "base_uri": "https://localhost:8080/"
        },
        "id": "2b9138fb",
        "outputId": "de9e6d88-e3fe-4427-e0a8-02db9a7ac83a"
      },
      "outputs": [
        {
          "output_type": "stream",
          "name": "stdout",
          "text": [
            "[0.   0.25 0.5  0.75 1.  ]\n"
          ]
        }
      ],
      "source": [
        "import numpy as np\n",
        "print(np.linspace(0,1,5))"
      ]
    },
    {
      "cell_type": "markdown",
      "id": "430c7514",
      "metadata": {
        "id": "430c7514"
      },
      "source": [
        "**My own example 55**"
      ]
    },
    {
      "cell_type": "code",
      "execution_count": null,
      "id": "679652a4",
      "metadata": {
        "colab": {
          "base_uri": "https://localhost:8080/"
        },
        "id": "679652a4",
        "outputId": "6bb62b47-4ad8-4f7b-e505-982a4824492b"
      },
      "outputs": [
        {
          "output_type": "stream",
          "name": "stdout",
          "text": [
            "[[0 3]\n",
            " [1 4]\n",
            " [2 5]]\n"
          ]
        }
      ],
      "source": [
        "import numpy as np\n",
        "arr=np.arange(6).reshape(2,3)\n",
        "print(arr.T)"
      ]
    },
    {
      "cell_type": "markdown",
      "id": "5205d88d",
      "metadata": {
        "id": "5205d88d"
      },
      "source": [
        "**My own example 56**"
      ]
    },
    {
      "cell_type": "code",
      "execution_count": null,
      "id": "6493a8e0",
      "metadata": {
        "colab": {
          "base_uri": "https://localhost:8080/"
        },
        "id": "6493a8e0",
        "outputId": "f52906ac-5a96-4db1-d54b-7893c703aeef"
      },
      "outputs": [
        {
          "output_type": "stream",
          "name": "stdout",
          "text": [
            "[0.18147576 0.03189728 0.95611597]\n"
          ]
        }
      ],
      "source": [
        "import numpy as np\n",
        "arr=np.random.rand(3)\n",
        "print(arr)"
      ]
    },
    {
      "cell_type": "markdown",
      "id": "025fa9db",
      "metadata": {
        "id": "025fa9db"
      },
      "source": [
        "**My own example 57**"
      ]
    },
    {
      "cell_type": "code",
      "execution_count": null,
      "id": "eebdc563",
      "metadata": {
        "colab": {
          "base_uri": "https://localhost:8080/"
        },
        "id": "eebdc563",
        "outputId": "080db84f-3044-4150-f4ae-119dd397e11f"
      },
      "outputs": [
        {
          "output_type": "stream",
          "name": "stdout",
          "text": [
            "2.0\n"
          ]
        }
      ],
      "source": [
        "import numpy as np\n",
        "print(np.mean([1,2,3]))"
      ]
    },
    {
      "cell_type": "markdown",
      "id": "15ed5db1",
      "metadata": {
        "id": "15ed5db1"
      },
      "source": [
        "**My own example 58**"
      ]
    },
    {
      "cell_type": "code",
      "execution_count": null,
      "id": "ae812000",
      "metadata": {
        "colab": {
          "base_uri": "https://localhost:8080/"
        },
        "id": "ae812000",
        "outputId": "a7cfb54d-c923-4b9e-9050-513e2a24277b"
      },
      "outputs": [
        {
          "output_type": "stream",
          "name": "stdout",
          "text": [
            "1.118033988749895\n"
          ]
        }
      ],
      "source": [
        "import numpy as np\n",
        "print(np.std([1,2,3,4]))"
      ]
    },
    {
      "cell_type": "markdown",
      "id": "178b0251",
      "metadata": {
        "id": "178b0251"
      },
      "source": [
        "**My own example 59**"
      ]
    },
    {
      "cell_type": "code",
      "execution_count": null,
      "id": "eafba356",
      "metadata": {
        "colab": {
          "base_uri": "https://localhost:8080/"
        },
        "id": "eafba356",
        "outputId": "98ed2f5b-16df-4ea6-fa25-137d5d4c6351"
      },
      "outputs": [
        {
          "output_type": "stream",
          "name": "stdout",
          "text": [
            "[2 4]\n"
          ]
        }
      ],
      "source": [
        "import numpy as np\n",
        "arr=np.array([1,2,3,4])\n",
        "print(arr[arr%2==0])"
      ]
    },
    {
      "cell_type": "markdown",
      "id": "98814e1a",
      "metadata": {
        "id": "98814e1a"
      },
      "source": [
        "**My own example 60**"
      ]
    },
    {
      "cell_type": "code",
      "execution_count": null,
      "id": "8cda69d1",
      "metadata": {
        "colab": {
          "base_uri": "https://localhost:8080/"
        },
        "id": "8cda69d1",
        "outputId": "6e4300c3-d6ac-42f9-bea2-eaf575a045cc"
      },
      "outputs": [
        {
          "output_type": "stream",
          "name": "stdout",
          "text": [
            "[[19 22]\n",
            " [43 50]]\n"
          ]
        }
      ],
      "source": [
        "import numpy as np\n",
        "A=np.array([[1,2],[3,4]])\n",
        "B=np.array([[5,6],[7,8]])\n",
        "print(A@B)"
      ]
    },
    {
      "cell_type": "markdown",
      "id": "089f6c6f",
      "metadata": {
        "id": "089f6c6f"
      },
      "source": [
        "## Section 7: Quantopian Lecture 4: Introduction to Pandas"
      ]
    },
    {
      "cell_type": "markdown",
      "id": "379e5049",
      "metadata": {
        "id": "379e5049"
      },
      "source": [
        "**My own example 61**"
      ]
    },
    {
      "cell_type": "code",
      "execution_count": null,
      "id": "5acabea5",
      "metadata": {
        "colab": {
          "base_uri": "https://localhost:8080/"
        },
        "id": "5acabea5",
        "outputId": "fa4124a4-a6dc-4646-8cb3-743b7f3c7a51"
      },
      "outputs": [
        {
          "output_type": "stream",
          "name": "stdout",
          "text": [
            "   a  b\n",
            "0  1  3\n",
            "1  2  4\n"
          ]
        }
      ],
      "source": [
        "import pandas as pd\n",
        "df=pd.DataFrame({'a':[1,2],'b':[3,4]})\n",
        "print(df)"
      ]
    },
    {
      "cell_type": "markdown",
      "id": "3c83b720",
      "metadata": {
        "id": "3c83b720"
      },
      "source": [
        "**My own example 62**"
      ]
    },
    {
      "cell_type": "code",
      "execution_count": null,
      "id": "c6958e0c",
      "metadata": {
        "colab": {
          "base_uri": "https://localhost:8080/"
        },
        "id": "c6958e0c",
        "outputId": "46960cd2-69c5-4268-ecce-d27193c8c979"
      },
      "outputs": [
        {
          "output_type": "stream",
          "name": "stdout",
          "text": [
            "         x\n",
            "count  3.0\n",
            "mean   2.0\n",
            "std    1.0\n",
            "min    1.0\n",
            "25%    1.5\n",
            "50%    2.0\n",
            "75%    2.5\n",
            "max    3.0\n"
          ]
        }
      ],
      "source": [
        "import pandas as pd\n",
        "df=pd.DataFrame({'x':[1,2,3]})\n",
        "print(df.describe())"
      ]
    },
    {
      "cell_type": "markdown",
      "id": "c0f1713b",
      "metadata": {
        "id": "c0f1713b"
      },
      "source": [
        "**My own example 63**"
      ]
    },
    {
      "cell_type": "code",
      "execution_count": null,
      "id": "9657adfd",
      "metadata": {
        "colab": {
          "base_uri": "https://localhost:8080/"
        },
        "id": "9657adfd",
        "outputId": "8cc52d0d-20f3-4655-bbf0-2f575705f15e"
      },
      "outputs": [
        {
          "output_type": "stream",
          "name": "stdout",
          "text": [
            "20.0\n"
          ]
        }
      ],
      "source": [
        "import pandas as pd\n",
        "df=pd.DataFrame({'v':[10,20,30]})\n",
        "print(df['v'].mean())"
      ]
    },
    {
      "cell_type": "markdown",
      "id": "eee3f21b",
      "metadata": {
        "id": "eee3f21b"
      },
      "source": [
        "**My own example 64**"
      ]
    },
    {
      "cell_type": "code",
      "execution_count": null,
      "id": "1220bd89",
      "metadata": {
        "colab": {
          "base_uri": "https://localhost:8080/"
        },
        "id": "1220bd89",
        "outputId": "d614680a-2669-411a-f94e-be8f80837e66"
      },
      "outputs": [
        {
          "output_type": "stream",
          "name": "stdout",
          "text": [
            "a    int64\n",
            "b    int64\n",
            "dtype: object\n"
          ]
        }
      ],
      "source": [
        "import pandas as pd\n",
        "df=pd.DataFrame({'a':[1,2],'b':[5,6]})\n",
        "print(df.dtypes)"
      ]
    },
    {
      "cell_type": "markdown",
      "id": "c4bca0c4",
      "metadata": {
        "id": "c4bca0c4"
      },
      "source": [
        "**My own example 65**"
      ]
    },
    {
      "cell_type": "code",
      "execution_count": null,
      "id": "b179df8a",
      "metadata": {
        "colab": {
          "base_uri": "https://localhost:8080/"
        },
        "id": "b179df8a",
        "outputId": "17367b75-5319-4138-c48a-4a5643e6897f"
      },
      "outputs": [
        {
          "output_type": "stream",
          "name": "stdout",
          "text": [
            "   col\n",
            "0    1\n",
            "1    2\n"
          ]
        }
      ],
      "source": [
        "import pandas as pd\n",
        "df=pd.DataFrame({'col':[1,2,3]})\n",
        "print(df.head(2))"
      ]
    },
    {
      "cell_type": "markdown",
      "id": "5dc661ab",
      "metadata": {
        "id": "5dc661ab"
      },
      "source": [
        "**My own example 66**"
      ]
    },
    {
      "cell_type": "code",
      "execution_count": null,
      "id": "55a0316a",
      "metadata": {
        "colab": {
          "base_uri": "https://localhost:8080/"
        },
        "id": "55a0316a",
        "outputId": "e76c6508-e56d-49ad-93d2-0d2a8f5b1cd3"
      },
      "outputs": [
        {
          "output_type": "stream",
          "name": "stdout",
          "text": [
            "A    1\n",
            "B    3\n",
            "Name: 0, dtype: int64\n"
          ]
        }
      ],
      "source": [
        "import pandas as pd\n",
        "df=pd.DataFrame({'A':[1,2],'B':[3,4]})\n",
        "print(df.iloc[0])"
      ]
    },
    {
      "cell_type": "markdown",
      "id": "36e6ad13",
      "metadata": {
        "id": "36e6ad13"
      },
      "source": [
        "**My own example 67**"
      ]
    },
    {
      "cell_type": "code",
      "execution_count": null,
      "id": "a8ab620d",
      "metadata": {
        "colab": {
          "base_uri": "https://localhost:8080/"
        },
        "id": "a8ab620d",
        "outputId": "57f70438-b111-4059-db36-c69def806f7c"
      },
      "outputs": [
        {
          "output_type": "stream",
          "name": "stdout",
          "text": [
            "0    4\n",
            "1    6\n",
            "dtype: int64\n"
          ]
        }
      ],
      "source": [
        "import pandas as pd\n",
        "df=pd.DataFrame({'x':[1,2],'y':[3,4]})\n",
        "print(df['x']+df['y'])"
      ]
    },
    {
      "cell_type": "markdown",
      "id": "23bafc76",
      "metadata": {
        "id": "23bafc76"
      },
      "source": [
        "**My own example 68**"
      ]
    },
    {
      "cell_type": "code",
      "execution_count": null,
      "id": "ae66281b",
      "metadata": {
        "colab": {
          "base_uri": "https://localhost:8080/"
        },
        "id": "ae66281b",
        "outputId": "19b84876-4215-440e-9887-e21a145c37f7"
      },
      "outputs": [
        {
          "output_type": "stream",
          "name": "stdout",
          "text": [
            "     a    b\n",
            "a  1.0  1.0\n",
            "b  1.0  1.0\n"
          ]
        }
      ],
      "source": [
        "import pandas as pd\n",
        "df=pd.DataFrame({'a':[1,2,3],'b':[4,5,6]})\n",
        "print(df.corr())"
      ]
    },
    {
      "cell_type": "markdown",
      "id": "9285141c",
      "metadata": {
        "id": "9285141c"
      },
      "source": [
        "**My own example 69**"
      ]
    },
    {
      "cell_type": "code",
      "execution_count": null,
      "id": "699ec9c0",
      "metadata": {
        "colab": {
          "base_uri": "https://localhost:8080/"
        },
        "id": "699ec9c0",
        "outputId": "aff51059-3afa-47e0-c721-5913582e30d4"
      },
      "outputs": [
        {
          "output_type": "stream",
          "name": "stdout",
          "text": [
            "      pop\n",
            "city     \n",
            "NY      8\n",
            "LA      4\n"
          ]
        }
      ],
      "source": [
        "import pandas as pd\n",
        "df=pd.DataFrame({'city':['NY','LA'],'pop':[8,4]})\n",
        "print(df.set_index('city'))"
      ]
    },
    {
      "cell_type": "markdown",
      "id": "777b3d7a",
      "metadata": {
        "id": "777b3d7a"
      },
      "source": [
        "**My own example 70**"
      ]
    },
    {
      "cell_type": "code",
      "execution_count": null,
      "id": "abdd2313",
      "metadata": {
        "colab": {
          "base_uri": "https://localhost:8080/"
        },
        "id": "abdd2313",
        "outputId": "9dc1016b-d2a9-46f3-9180-6c26812608e7"
      },
      "outputs": [
        {
          "output_type": "stream",
          "name": "stdout",
          "text": [
            "   id  val  val2\n",
            "0   1  3.0   NaN\n",
            "1   2  4.0   5.0\n",
            "2   3  NaN   6.0\n"
          ]
        }
      ],
      "source": [
        "import pandas as pd\n",
        "df1=pd.DataFrame({'id':[1,2],'val':[3,4]})\n",
        "df2=pd.DataFrame({'id':[2,3],'val2':[5,6]})\n",
        "print(pd.merge(df1,df2,on='id',how='outer'))"
      ]
    },
    {
      "cell_type": "markdown",
      "id": "3552f09d",
      "metadata": {
        "id": "3552f09d"
      },
      "source": [
        "## Section 8: Quanconnect Tutorial 4: NumPy and Basic Pandas"
      ]
    },
    {
      "cell_type": "markdown",
      "id": "7b414960",
      "metadata": {
        "id": "7b414960"
      },
      "source": [
        "**My own example 71**"
      ]
    },
    {
      "cell_type": "code",
      "execution_count": null,
      "id": "386c4e64",
      "metadata": {
        "colab": {
          "base_uri": "https://localhost:8080/"
        },
        "id": "386c4e64",
        "outputId": "646dc8b1-1628-42df-d60d-ceb6ee94ba5b"
      },
      "outputs": [
        {
          "output_type": "stream",
          "name": "stdout",
          "text": [
            "0    1\n",
            "1    2\n",
            "2    3\n",
            "dtype: int64\n"
          ]
        }
      ],
      "source": [
        "import numpy as np\n",
        "import pandas as pd\n",
        "arr=np.array([1,2,3])\n",
        "s=pd.Series(arr)\n",
        "print(s)"
      ]
    },
    {
      "cell_type": "markdown",
      "id": "d7010cb7",
      "metadata": {
        "id": "d7010cb7"
      },
      "source": [
        "**My own example 72**"
      ]
    },
    {
      "cell_type": "code",
      "execution_count": null,
      "id": "f40f4be2",
      "metadata": {
        "colab": {
          "base_uri": "https://localhost:8080/"
        },
        "id": "f40f4be2",
        "outputId": "23d935d5-183e-4903-de15-0a2656b2da73"
      },
      "outputs": [
        {
          "output_type": "stream",
          "name": "stdout",
          "text": [
            "0.4273392558068583\n"
          ]
        }
      ],
      "source": [
        "import numpy as np\n",
        "import pandas as pd\n",
        "s=pd.Series(np.random.randn(5))\n",
        "print(s.var())"
      ]
    },
    {
      "cell_type": "markdown",
      "id": "21e601c0",
      "metadata": {
        "id": "21e601c0"
      },
      "source": [
        "**My own example 73**"
      ]
    },
    {
      "cell_type": "code",
      "execution_count": null,
      "id": "4a765b53",
      "metadata": {
        "colab": {
          "base_uri": "https://localhost:8080/"
        },
        "id": "4a765b53",
        "outputId": "ac0c4ea2-4056-4fba-c5b8-5e63e88203b2"
      },
      "outputs": [
        {
          "output_type": "stream",
          "name": "stdout",
          "text": [
            "0    NaN\n",
            "1    1.0\n",
            "2    2.0\n",
            "dtype: float64\n"
          ]
        }
      ],
      "source": [
        "import numpy as np\n",
        "import pandas as pd\n",
        "s=pd.Series([1,2,3])\n",
        "print(s.shift(1))"
      ]
    },
    {
      "cell_type": "markdown",
      "id": "35ddc4c4",
      "metadata": {
        "id": "35ddc4c4"
      },
      "source": [
        "**My own example 74**"
      ]
    },
    {
      "cell_type": "code",
      "execution_count": null,
      "id": "6095feee",
      "metadata": {
        "colab": {
          "base_uri": "https://localhost:8080/"
        },
        "id": "6095feee",
        "outputId": "e5c7113d-267b-47ca-d483-3f6db715655e"
      },
      "outputs": [
        {
          "output_type": "stream",
          "name": "stdout",
          "text": [
            "0    1\n",
            "1    3\n",
            "2    6\n",
            "dtype: int64\n"
          ]
        }
      ],
      "source": [
        "import numpy as np\n",
        "import pandas as pd\n",
        "s=pd.Series([1,2,3])\n",
        "print(s.cumsum())"
      ]
    },
    {
      "cell_type": "markdown",
      "id": "a7c83aeb",
      "metadata": {
        "id": "a7c83aeb"
      },
      "source": [
        "**My own example 75**"
      ]
    },
    {
      "cell_type": "code",
      "execution_count": null,
      "id": "0f27b779",
      "metadata": {
        "colab": {
          "base_uri": "https://localhost:8080/"
        },
        "id": "0f27b779",
        "outputId": "ac0ac116-9a4a-4f15-9df4-ddd6152b6dde"
      },
      "outputs": [
        {
          "output_type": "stream",
          "name": "stdout",
          "text": [
            "0    NaN\n",
            "1    1.5\n",
            "2    2.5\n",
            "dtype: float64\n"
          ]
        }
      ],
      "source": [
        "import numpy as np\n",
        "import pandas as pd\n",
        "s=pd.Series([1,2,3])\n",
        "print(s.rolling(2).mean())"
      ]
    },
    {
      "cell_type": "markdown",
      "id": "68d84633",
      "metadata": {
        "id": "68d84633"
      },
      "source": [
        "**My own example 76**"
      ]
    },
    {
      "cell_type": "code",
      "execution_count": null,
      "id": "791a77ee",
      "metadata": {
        "colab": {
          "base_uri": "https://localhost:8080/"
        },
        "id": "791a77ee",
        "outputId": "a7c85300-3df8-4057-db94-55b05ec72499"
      },
      "outputs": [
        {
          "output_type": "stream",
          "name": "stdout",
          "text": [
            "a   -0.166728\n",
            "b   -0.075049\n",
            "c   -0.448042\n",
            "dtype: float64\n"
          ]
        }
      ],
      "source": [
        "import numpy as np\n",
        "import pandas as pd\n",
        "df=pd.DataFrame(np.random.randn(3,3),columns=list('abc'))\n",
        "print(df.mean())"
      ]
    },
    {
      "cell_type": "markdown",
      "id": "d54c1c9f",
      "metadata": {
        "id": "d54c1c9f"
      },
      "source": [
        "**My own example 77**"
      ]
    },
    {
      "cell_type": "code",
      "execution_count": null,
      "id": "d4d0b221",
      "metadata": {
        "colab": {
          "base_uri": "https://localhost:8080/"
        },
        "id": "d4d0b221",
        "outputId": "0e695809-f09e-47cf-c6a3-e9e9b30a79ea"
      },
      "outputs": [
        {
          "output_type": "stream",
          "name": "stdout",
          "text": [
            "0    1.0\n",
            "1    2.0\n",
            "2    3.0\n",
            "dtype: float64\n"
          ]
        }
      ],
      "source": [
        "import numpy as np\n",
        "import pandas as pd\n",
        "s=pd.Series([10,20,30])\n",
        "print(s.apply(lambda x:x/10))"
      ]
    },
    {
      "cell_type": "markdown",
      "id": "6d4220eb",
      "metadata": {
        "id": "6d4220eb"
      },
      "source": [
        "**My own example 78**"
      ]
    },
    {
      "cell_type": "code",
      "execution_count": null,
      "id": "31f0f123",
      "metadata": {
        "colab": {
          "base_uri": "https://localhost:8080/"
        },
        "id": "31f0f123",
        "outputId": "ede6e75a-6fd3-42c3-e8cf-bf0124af42d8"
      },
      "outputs": [
        {
          "output_type": "stream",
          "name": "stdout",
          "text": [
            "2    3\n",
            "3    4\n",
            "dtype: int64\n"
          ]
        }
      ],
      "source": [
        "import numpy as np\n",
        "import pandas as pd\n",
        "s=pd.Series([1,2,3,4])\n",
        "print(s[s>2])"
      ]
    },
    {
      "cell_type": "markdown",
      "id": "bfa8f967",
      "metadata": {
        "id": "bfa8f967"
      },
      "source": [
        "**My own example 79**"
      ]
    },
    {
      "cell_type": "code",
      "execution_count": null,
      "id": "5688602a",
      "metadata": {
        "colab": {
          "base_uri": "https://localhost:8080/"
        },
        "id": "5688602a",
        "outputId": "337c98ae-12bf-49f9-de55-ae0f821e3df8"
      },
      "outputs": [
        {
          "output_type": "stream",
          "name": "stdout",
          "text": [
            "32\n"
          ]
        }
      ],
      "source": [
        "import numpy as np\n",
        "import pandas as pd\n",
        "df=pd.DataFrame({'A':[1,2,3],'B':[4,5,6]})\n",
        "print(df['A'].dot(df['B']))"
      ]
    },
    {
      "cell_type": "markdown",
      "id": "e3236b89",
      "metadata": {
        "id": "e3236b89"
      },
      "source": [
        "**My own example 80**"
      ]
    },
    {
      "cell_type": "code",
      "execution_count": null,
      "id": "a07c549c",
      "metadata": {
        "colab": {
          "base_uri": "https://localhost:8080/"
        },
        "id": "a07c549c",
        "outputId": "aedc6388-8c19-4f96-86cf-f7db0536edaa"
      },
      "outputs": [
        {
          "output_type": "stream",
          "name": "stdout",
          "text": [
            "a    1.0\n",
            "b    5.0\n",
            "c    4.0\n",
            "dtype: float64\n"
          ]
        }
      ],
      "source": [
        "import numpy as np\n",
        "import pandas as pd\n",
        "s1=pd.Series([1,2],index=['a','b'])\n",
        "s2=pd.Series([3,4],index=['b','c'])\n",
        "print(s1.add(s2,fill_value=0))"
      ]
    },
    {
      "cell_type": "markdown",
      "id": "09302657",
      "metadata": {
        "id": "09302657"
      },
      "source": [
        "## Section 9: Quanconnect Tutorial 5: Pandas-Resampling and DataFrame"
      ]
    },
    {
      "cell_type": "markdown",
      "id": "3cb95b03",
      "metadata": {
        "id": "3cb95b03"
      },
      "source": [
        "**My own example 81**"
      ]
    },
    {
      "cell_type": "code",
      "execution_count": null,
      "id": "0dea97ea",
      "metadata": {
        "colab": {
          "base_uri": "https://localhost:8080/"
        },
        "id": "0dea97ea",
        "outputId": "848bff27-8d33-4ae8-9ba9-60a817230f75"
      },
      "outputs": [
        {
          "output_type": "stream",
          "name": "stdout",
          "text": [
            "2021-01-01    1\n",
            "2021-01-03    5\n",
            "Freq: 2D, dtype: int64\n"
          ]
        }
      ],
      "source": [
        "import pandas as pd, numpy as np\n",
        "rng=pd.date_range('2021-01-01',periods=4,freq='D')\n",
        "ts=pd.Series(np.arange(4),index=rng)\n",
        "print(ts.resample('2D').sum())"
      ]
    },
    {
      "cell_type": "markdown",
      "id": "b23d2c6b",
      "metadata": {
        "id": "b23d2c6b"
      },
      "source": [
        "**My own example 82**"
      ]
    },
    {
      "cell_type": "code",
      "execution_count": null,
      "id": "f58272e3",
      "metadata": {
        "colab": {
          "base_uri": "https://localhost:8080/"
        },
        "id": "f58272e3",
        "outputId": "df03bb84-1e7c-4d4f-8172-e3a0a293ec2d"
      },
      "outputs": [
        {
          "output_type": "stream",
          "name": "stdout",
          "text": [
            "2021-01-31    NaN\n",
            "2021-02-28    1.0\n",
            "2021-03-31    3.0\n",
            "Freq: ME, dtype: float64\n"
          ]
        },
        {
          "output_type": "stream",
          "name": "stderr",
          "text": [
            "/tmp/ipython-input-3296535362.py:2: FutureWarning: 'M' is deprecated and will be removed in a future version, please use 'ME' instead.\n",
            "  rng=pd.date_range('2021',periods=3,freq='M')\n"
          ]
        }
      ],
      "source": [
        "import pandas as pd, numpy as np\n",
        "rng=pd.date_range('2021',periods=3,freq='M')\n",
        "ts=pd.Series([1,3,5],index=rng)\n",
        "print(ts.shift(1))"
      ]
    },
    {
      "cell_type": "markdown",
      "id": "2bbbb5de",
      "metadata": {
        "id": "2bbbb5de"
      },
      "source": [
        "**My own example 83**"
      ]
    },
    {
      "cell_type": "code",
      "execution_count": null,
      "id": "0e8b4484",
      "metadata": {
        "colab": {
          "base_uri": "https://localhost:8080/"
        },
        "id": "0e8b4484",
        "outputId": "0e9cf37a-0299-4cc3-dbf7-8206d5fe7575"
      },
      "outputs": [
        {
          "output_type": "stream",
          "name": "stdout",
          "text": [
            "2021-01-01    NaN\n",
            "2021-01-02    0.5\n",
            "2021-01-03    1.5\n",
            "2021-01-04    2.5\n",
            "Freq: D, dtype: float64\n"
          ]
        }
      ],
      "source": [
        "import pandas as pd, numpy as np\n",
        "rng=pd.date_range('2021-01',periods=4,freq='D')\n",
        "ts=pd.Series(np.arange(4),index=rng)\n",
        "print(ts.rolling(2).mean())"
      ]
    },
    {
      "cell_type": "markdown",
      "id": "cd258ce8",
      "metadata": {
        "id": "cd258ce8"
      },
      "source": [
        "**My own example 84**"
      ]
    },
    {
      "cell_type": "code",
      "execution_count": null,
      "id": "e9e309da",
      "metadata": {
        "colab": {
          "base_uri": "https://localhost:8080/"
        },
        "id": "e9e309da",
        "outputId": "66515fb7-85e1-4e2e-958e-bc1fa631614b"
      },
      "outputs": [
        {
          "output_type": "stream",
          "name": "stdout",
          "text": [
            "2021-01-01   -0.365847\n",
            "2021-01-02   -0.051508\n",
            "2021-01-03   -0.208833\n",
            "2021-01-04    0.210646\n",
            "2021-01-05    0.601682\n",
            "Freq: D, dtype: float64\n"
          ]
        }
      ],
      "source": [
        "import pandas as pd, numpy as np\n",
        "rng=pd.date_range('2021-01-01',periods=5,freq='D')\n",
        "ts=pd.Series(np.random.randn(5),index=rng)\n",
        "print(ts.expanding().mean())"
      ]
    },
    {
      "cell_type": "markdown",
      "id": "c5a5b636",
      "metadata": {
        "id": "c5a5b636"
      },
      "source": [
        "**My own example 85**"
      ]
    },
    {
      "cell_type": "code",
      "execution_count": null,
      "id": "81f3d6b2",
      "metadata": {
        "colab": {
          "base_uri": "https://localhost:8080/"
        },
        "id": "81f3d6b2",
        "outputId": "19c45634-09d3-4692-b27b-2ed8b3339f9c"
      },
      "outputs": [
        {
          "output_type": "stream",
          "name": "stdout",
          "text": [
            "2021-01-01    1.0\n",
            "2021-01-02    2.0\n",
            "2021-01-03    3.0\n",
            "Freq: D, dtype: float64\n"
          ]
        }
      ],
      "source": [
        "import pandas as pd, numpy as np\n",
        "rng=pd.date_range('2021-01-01',periods=3,freq='D')\n",
        "ts=pd.Series([1,None,3],index=rng)\n",
        "print(ts.interpolate())"
      ]
    },
    {
      "cell_type": "markdown",
      "id": "cebd96b0",
      "metadata": {
        "id": "cebd96b0"
      },
      "source": [
        "**My own example 86**"
      ]
    },
    {
      "cell_type": "code",
      "execution_count": null,
      "id": "301b2ea1",
      "metadata": {
        "colab": {
          "base_uri": "https://localhost:8080/"
        },
        "id": "301b2ea1",
        "outputId": "b9ca3819-a632-4020-e12f-79467b92cfc1"
      },
      "outputs": [
        {
          "output_type": "stream",
          "name": "stdout",
          "text": [
            "2021-01-03    2\n",
            "2021-01-10    4\n",
            "Freq: W-SUN, dtype: int64\n"
          ]
        }
      ],
      "source": [
        "import pandas as pd, numpy as np\n",
        "rng=pd.date_range('2021-01-01',periods=5,freq='D')\n",
        "ts=pd.Series(np.arange(5),index=rng)\n",
        "print(ts.resample('W').max())"
      ]
    },
    {
      "cell_type": "markdown",
      "id": "780e23bd",
      "metadata": {
        "id": "780e23bd"
      },
      "source": [
        "**My own example 87**"
      ]
    },
    {
      "cell_type": "code",
      "execution_count": null,
      "id": "13c0ddb8",
      "metadata": {
        "colab": {
          "base_uri": "https://localhost:8080/"
        },
        "id": "13c0ddb8",
        "outputId": "993ae80f-80e8-4d24-9c68-a747a892961f"
      },
      "outputs": [
        {
          "output_type": "stream",
          "name": "stdout",
          "text": [
            "            open  high  low  close\n",
            "2021-01-01     0     1    0      1\n",
            "2021-01-03     2     3    2      3\n",
            "2021-01-05     4     4    4      4\n"
          ]
        }
      ],
      "source": [
        "import pandas as pd, numpy as np\n",
        "rng=pd.date_range('2021-01-01',periods=5,freq='D')\n",
        "ts=pd.Series(np.arange(5),index=rng)\n",
        "print(ts.resample('2D').ohlc())"
      ]
    },
    {
      "cell_type": "markdown",
      "id": "9ab5aaa2",
      "metadata": {
        "id": "9ab5aaa2"
      },
      "source": [
        "**My own example 88**"
      ]
    },
    {
      "cell_type": "code",
      "execution_count": null,
      "id": "a72035ee",
      "metadata": {
        "colab": {
          "base_uri": "https://localhost:8080/"
        },
        "id": "a72035ee",
        "outputId": "891e6638-d62f-4f2d-dfee-9e7371f84524"
      },
      "outputs": [
        {
          "output_type": "stream",
          "name": "stdout",
          "text": [
            "2021-01-01 00:00:00    0.0\n",
            "2021-01-01 12:00:00    NaN\n",
            "2021-01-02 00:00:00    1.0\n",
            "2021-01-02 12:00:00    NaN\n",
            "2021-01-03 00:00:00    2.0\n",
            "2021-01-03 12:00:00    NaN\n",
            "2021-01-04 00:00:00    3.0\n",
            "Freq: 12h, dtype: float64\n"
          ]
        },
        {
          "output_type": "stream",
          "name": "stderr",
          "text": [
            "/tmp/ipython-input-3910985210.py:4: FutureWarning: 'H' is deprecated and will be removed in a future version, please use 'h' instead.\n",
            "  print(ts.asfreq('12H'))\n"
          ]
        }
      ],
      "source": [
        "import pandas as pd, numpy as np\n",
        "rng=pd.date_range('2021-01-01',periods=4,freq='D')\n",
        "ts=pd.Series(np.arange(4),index=rng)\n",
        "print(ts.asfreq('12H'))"
      ]
    },
    {
      "cell_type": "markdown",
      "id": "3da6b87e",
      "metadata": {
        "id": "3da6b87e"
      },
      "source": [
        "**My own example 89**"
      ]
    },
    {
      "cell_type": "code",
      "execution_count": null,
      "id": "a4d9c1d8",
      "metadata": {
        "colab": {
          "base_uri": "https://localhost:8080/"
        },
        "id": "a4d9c1d8",
        "outputId": "58cd9217-79b3-4e41-e8a9-36c2695ee28c"
      },
      "outputs": [
        {
          "output_type": "stream",
          "name": "stdout",
          "text": [
            "2021-01-01    NaN\n",
            "2021-01-02    1.0\n",
            "2021-01-03    1.0\n",
            "2021-01-04    1.0\n",
            "2021-01-05    1.0\n",
            "Freq: D, dtype: float64\n"
          ]
        }
      ],
      "source": [
        "import pandas as pd, numpy as np\n",
        "rng=pd.date_range('2021-01-01',periods=5,freq='D')\n",
        "ts=pd.Series(np.arange(5),index=rng)\n",
        "print(ts.diff())"
      ]
    },
    {
      "cell_type": "markdown",
      "id": "ae42b8d1",
      "metadata": {
        "id": "ae42b8d1"
      },
      "source": [
        "**My own example 90**"
      ]
    },
    {
      "cell_type": "code",
      "execution_count": null,
      "id": "527aa7aa",
      "metadata": {
        "colab": {
          "base_uri": "https://localhost:8080/"
        },
        "id": "527aa7aa",
        "outputId": "e1067a10-ca32-438c-80d2-c39d1f5e42d3"
      },
      "outputs": [
        {
          "output_type": "stream",
          "name": "stdout",
          "text": [
            "2021-01-01         NaN\n",
            "2021-01-02         inf\n",
            "2021-01-03    1.000000\n",
            "2021-01-04    0.500000\n",
            "2021-01-05    0.333333\n",
            "Freq: D, dtype: float64\n"
          ]
        }
      ],
      "source": [
        "import pandas as pd, numpy as np\n",
        "rng=pd.date_range('2021-01-01',periods=5,freq='D')\n",
        "ts=pd.Series(np.arange(5),index=rng)\n",
        "print(ts.pct_change())"
      ]
    },
    {
      "cell_type": "markdown",
      "id": "3e449640",
      "metadata": {
        "id": "3e449640"
      },
      "source": [
        "## Section 10: Quantopian Lecture 5: Plotting Data"
      ]
    },
    {
      "cell_type": "markdown",
      "id": "9f3b9f62",
      "metadata": {
        "id": "9f3b9f62"
      },
      "source": [
        "**My own example 91**"
      ]
    },
    {
      "cell_type": "code",
      "execution_count": null,
      "id": "a675332f",
      "metadata": {
        "colab": {
          "base_uri": "https://localhost:8080/",
          "height": 430
        },
        "id": "a675332f",
        "outputId": "ecb107a0-fa56-4277-a4b9-484b582f7dd1"
      },
      "outputs": [
        {
          "output_type": "display_data",
          "data": {
            "text/plain": [
              "<Figure size 640x480 with 1 Axes>"
            ],
            "image/png": "[encoded data removed]"
          },
          "metadata": {}
        }
      ],
      "source": [
        "import matplotlib.pyplot as plt\n",
        "x=[1,2,3]\n",
        "y=[2,4,6]\n",
        "plt.plot(x,y)\n",
        "plt.show()"
      ]
    },
    {
      "cell_type": "markdown",
      "id": "ad80133b",
      "metadata": {
        "id": "ad80133b"
      },
      "source": [
        "**My own example 92**"
      ]
    },
    {
      "cell_type": "code",
      "execution_count": null,
      "id": "1030d82c",
      "metadata": {
        "colab": {
          "base_uri": "https://localhost:8080/",
          "height": 430
        },
        "id": "1030d82c",
        "outputId": "0d7731f6-d460-4c15-9131-963467b0c090"
      },
      "outputs": [
        {
          "output_type": "display_data",
          "data": {
            "text/plain": [
              "<Figure size 640x480 with 1 Axes>"
            ],
            "image/png": "[encoded data removed]"
          },
          "metadata": {}
        }
      ],
      "source": [
        "import matplotlib.pyplot as plt\n",
        "x=[1,2,3]\n",
        "y=[1,4,9]\n",
        "plt.bar(x,y)\n",
        "plt.show()"
      ]
    },
    {
      "cell_type": "markdown",
      "id": "b3913aeb",
      "metadata": {
        "id": "b3913aeb"
      },
      "source": [
        "**My own example 93**"
      ]
    },
    {
      "cell_type": "code",
      "execution_count": null,
      "id": "cff95fed",
      "metadata": {
        "colab": {
          "base_uri": "https://localhost:8080/",
          "height": 430
        },
        "id": "cff95fed",
        "outputId": "768401b3-54d1-4659-f135-94f7d200a127"
      },
      "outputs": [
        {
          "output_type": "display_data",
          "data": {
            "text/plain": [
              "<Figure size 640x480 with 1 Axes>"
            ],
            "image/png": "[encoded data removed]"
          },
          "metadata": {}
        }
      ],
      "source": [
        "import matplotlib.pyplot as plt\n",
        "x=[1,2,3]\n",
        "y=[3,1,4]\n",
        "plt.scatter(x,y)\n",
        "plt.show()"
      ]
    },
    {
      "cell_type": "markdown",
      "id": "90371570",
      "metadata": {
        "id": "90371570"
      },
      "source": [
        "**My own example 94**"
      ]
    },
    {
      "cell_type": "code",
      "execution_count": null,
      "id": "2cdae58e",
      "metadata": {
        "colab": {
          "base_uri": "https://localhost:8080/",
          "height": 430
        },
        "id": "2cdae58e",
        "outputId": "84cad884-e72c-483d-a6e5-7525bb400e1b"
      },
      "outputs": [
        {
          "output_type": "display_data",
          "data": {
            "text/plain": [
              "<Figure size 640x480 with 1 Axes>"
            ],
            "image/png": "[encoded data removed]"
          },
          "metadata": {}
        }
      ],
      "source": [
        "import matplotlib.pyplot as plt\n",
        "plt.hist([1,1,2,2,3,3,3],bins=3)\n",
        "plt.show()"
      ]
    },
    {
      "cell_type": "markdown",
      "id": "35f309a0",
      "metadata": {
        "id": "35f309a0"
      },
      "source": [
        "**My own example 95**"
      ]
    },
    {
      "cell_type": "code",
      "execution_count": null,
      "id": "f9d99a98",
      "metadata": {
        "colab": {
          "base_uri": "https://localhost:8080/",
          "height": 430
        },
        "id": "f9d99a98",
        "outputId": "67b27176-fc75-43e4-81ec-899e6bab8267"
      },
      "outputs": [
        {
          "output_type": "display_data",
          "data": {
            "text/plain": [
              "<Figure size 640x480 with 1 Axes>"
            ],
            "image/png": "[encoded data removed]"
          },
          "metadata": {}
        }
      ],
      "source": [
        "import matplotlib.pyplot as plt\n",
        "x=[0.1,0.2,0.3]\n",
        "y=[0.01,0.04,0.09]\n",
        "plt.plot(x,y,'--')\n",
        "plt.show()"
      ]
    },
    {
      "cell_type": "markdown",
      "id": "a30c4b42",
      "metadata": {
        "id": "a30c4b42"
      },
      "source": [
        "**My own example 96**"
      ]
    },
    {
      "cell_type": "code",
      "execution_count": null,
      "id": "98869bdb",
      "metadata": {
        "colab": {
          "base_uri": "https://localhost:8080/",
          "height": 430
        },
        "id": "98869bdb",
        "outputId": "07e650f9-a3d1-4e46-c9eb-b0a07ab1d288"
      },
      "outputs": [
        {
          "output_type": "display_data",
          "data": {
            "text/plain": [
              "<Figure size 640x480 with 1 Axes>"
            ],
            "image/png": "[encoded data removed]"
          },
          "metadata": {}
        }
      ],
      "source": [
        "import matplotlib.pyplot as plt\n",
        "x=[1,2,3]\n",
        "y=[2,4,6]\n",
        "plt.errorbar(x,y,yerr=0.5)\n",
        "plt.show()"
      ]
    },
    {
      "cell_type": "markdown",
      "id": "78efc594",
      "metadata": {
        "id": "78efc594"
      },
      "source": [
        "**My own example 97**"
      ]
    },
    {
      "cell_type": "code",
      "execution_count": null,
      "id": "493efc54",
      "metadata": {
        "colab": {
          "base_uri": "https://localhost:8080/",
          "height": 452
        },
        "id": "493efc54",
        "outputId": "19184f56-57dd-40d6-aa60-d95c1630f5d6"
      },
      "outputs": [
        {
          "output_type": "display_data",
          "data": {
            "text/plain": [
              "<Figure size 640x480 with 1 Axes>"
            ],
            "image/png": "[encoded data removed]"
          },
          "metadata": {}
        }
      ],
      "source": [
        "import matplotlib.pyplot as plt\n",
        "fig,ax=plt.subplots()\n",
        "ax.plot([1,2],[3,4]);ax.set_title('Subplot')\n",
        "plt.show()"
      ]
    },
    {
      "cell_type": "markdown",
      "id": "2432f1f4",
      "metadata": {
        "id": "2432f1f4"
      },
      "source": [
        "**My own example 98**"
      ]
    },
    {
      "cell_type": "code",
      "execution_count": null,
      "id": "075d58aa",
      "metadata": {
        "colab": {
          "base_uri": "https://localhost:8080/",
          "height": 430
        },
        "id": "075d58aa",
        "outputId": "64fee0d0-d9cc-4b31-8eb6-0a48237af093"
      },
      "outputs": [
        {
          "output_type": "display_data",
          "data": {
            "text/plain": [
              "<Figure size 640x480 with 1 Axes>"
            ],
            "image/png": "[encoded data removed]"
          },
          "metadata": {}
        }
      ],
      "source": [
        "import matplotlib.pyplot as plt\n",
        "x=[1,2,3]\n",
        "y1=[1,2,3]\n",
        "y2=[1,4,9]\n",
        "plt.plot(x,y1,label='linear')\n",
        "plt.plot(x,y2,label='quadratic')\n",
        "plt.legend()\n",
        "plt.show()"
      ]
    },
    {
      "cell_type": "markdown",
      "id": "54f91ccd",
      "metadata": {
        "id": "54f91ccd"
      },
      "source": [
        "**My own example 99**"
      ]
    },
    {
      "cell_type": "code",
      "execution_count": null,
      "id": "7f516e43",
      "metadata": {
        "colab": {
          "base_uri": "https://localhost:8080/",
          "height": 406
        },
        "id": "7f516e43",
        "outputId": "77fe9310-4378-46ff-e8a1-555e00c01505"
      },
      "outputs": [
        {
          "output_type": "display_data",
          "data": {
            "text/plain": [
              "<Figure size 640x480 with 1 Axes>"
            ],
            "image/png": "[encoded data removed]"
          },
          "metadata": {}
        }
      ],
      "source": [
        "import matplotlib.pyplot as plt\n",
        "sizes=[10,20,30]\n",
        "plt.pie(sizes,labels=['A','B','C'])\n",
        "plt.show()"
      ]
    },
    {
      "cell_type": "markdown",
      "id": "dd43f787",
      "metadata": {
        "id": "dd43f787"
      },
      "source": [
        "**My own example 100**"
      ]
    },
    {
      "cell_type": "code",
      "execution_count": null,
      "id": "660f0b31",
      "metadata": {
        "colab": {
          "base_uri": "https://localhost:8080/",
          "height": 452
        },
        "id": "660f0b31",
        "outputId": "acb51766-0f30-4107-c37d-3bae98d9f68f"
      },
      "outputs": [
        {
          "output_type": "display_data",
          "data": {
            "text/plain": [
              "<Figure size 640x480 with 1 Axes>"
            ],
            "image/png": "[encoded data removed]"
          },
          "metadata": {}
        }
      ],
      "source": [
        "import matplotlib.pyplot as plt\n",
        "import numpy as np\n",
        "x=np.linspace(0,2*np.pi,100)\n",
        "y=np.sin(x)\n",
        "plt.plot(x,y)\n",
        "plt.title('Sine Wave')\n",
        "plt.show()"
      ]
    },
    {
      "cell_type": "markdown",
      "id": "2855979e",
      "metadata": {
        "id": "2855979e"
      },
      "source": [
        "## Bonus: QuantBook replacement with yfinance"
      ]
    },
    {
      "cell_type": "code",
      "execution_count": null,
      "id": "ee525882",
      "metadata": {
        "colab": {
          "base_uri": "https://localhost:8080/"
        },
        "id": "ee525882",
        "outputId": "26378bf6-b65e-4231-f6d4-99b009537081"
      },
      "outputs": [
        {
          "output_type": "stream",
          "name": "stderr",
          "text": [
            "/tmp/ipython-input-4015781257.py:5: FutureWarning: YF.download() has changed argument auto_adjust default to True\n",
            "  df = yf.download(ticker, start=start, end=end, interval=interval, progress=False)\n"
          ]
        },
        {
          "output_type": "stream",
          "name": "stdout",
          "text": [
            "Price            Close        High         Low        Open     Volume\n",
            "Ticker            AAPL        AAPL        AAPL        AAPL       AAPL\n",
            "Date                                                                 \n",
            "2021-01-04  126.096573  130.189033  123.514422  130.101340  143301900\n",
            "2021-01-05  127.655609  128.366929  125.141666  125.589894   97664900\n",
            "2021-01-06  123.358521  127.694587  123.144152  124.449847  155088000\n",
            "2021-01-07  127.567909  128.259737  124.586260  125.073458  109578200\n",
            "2021-01-08  128.668976  129.234127  126.895568  129.039236  105158200\n"
          ]
        }
      ],
      "source": [
        "# Example: replacing get_pricing() with yfinance\n",
        "import yfinance as yf\n",
        "\n",
        "def QuantBook_get_price(ticker, start='2020-01-01', end='2020-03-01', interval='1d'):\n",
        "    df = yf.download(ticker, start=start, end=end, interval=interval, progress=False)\n",
        "    return df\n",
        "\n",
        "data = QuantBook_get_price('AAPL', '2021-01-01', '2021-01-10')\n",
        "print(data.head())"
      ]
    }
  ],
  "metadata": {
    "colab": {
      "provenance": [],
      "include_colab_link": true
    },
    "language_info": {
      "name": "python"
    },
    "kernelspec": {
      "name": "python3",
      "display_name": "Python 3"
    }
  },
  "nbformat": 4,
  "nbformat_minor": 5
}